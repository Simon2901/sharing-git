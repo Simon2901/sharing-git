{
 "cells": [
  {
   "cell_type": "markdown",
   "metadata": {},
   "source": [
    "### Brumm Brumm Kostis vom Besten Festival der Erdööööö\n",
    "beinhaltet Sprit und Versicherung"
   ]
  },
  {
   "cell_type": "code",
   "execution_count": 1,
   "metadata": {},
   "outputs": [],
   "source": [
    "# Personen\n",
    "simon = viggels = eva = greta = luca = 0\n",
    "\n",
    "# Autodetails\n",
    "verbrauch = 6.7 / 100 # l pro km\n",
    "spritkosten = 1.78 # Euro pro l\n",
    "versicherung = 77.20 / 10 # pro Trip pro Person"
   ]
  },
  {
   "cell_type": "code",
   "execution_count": 2,
   "metadata": {},
   "outputs": [],
   "source": [
    "# Hinfahrt Köln -> Pangea pro Person\n",
    "hinfahrt = (670 * verbrauch * spritkosten) / 3\n",
    "\n",
    "# Rückfahrt Pangea -> Köln pro Person\n",
    "rueckfahrt = (660 * verbrauch * spritkosten) / 5\n",
    "\n",
    "# Heimfahrt Köln -> Aachen -> Pfalz pro Person\n",
    "heimfahrt = (355 * verbrauch * spritkosten) / 2"
   ]
  },
  {
   "cell_type": "code",
   "execution_count": 3,
   "metadata": {},
   "outputs": [],
   "source": [
    "# Kosten für jede Person\n",
    "simon = viggels = hinfahrt + rueckfahrt + heimfahrt + 3 * versicherung\n",
    "eva += hinfahrt + rueckfahrt + 2 * versicherung\n",
    "greta = luca = rueckfahrt + versicherung"
   ]
  },
  {
   "cell_type": "code",
   "execution_count": 4,
   "metadata": {},
   "outputs": [
    {
     "name": "stdout",
     "output_type": "stream",
     "text": [
      "Gesamtkosten:\n",
      "Hinfahrt (Köln -> Pangea): 79.9\n",
      "Rückfahrt (Pangea -> Köln): 78.71\n",
      "Heimfahrt (Köln -> Aachen -> Pfalz): 42.34\n",
      "Versicherung pro Trip pro Person: 7.72\n",
      "\n",
      "\n",
      "Kosten pro Person:\n",
      "Simon: 86.71\n",
      "Viggels: 87\n",
      "Eva: 57.82\n",
      "Greta: 23.46\n",
      "Luca: 23.46\n"
     ]
    }
   ],
   "source": [
    "## Ausgabe ##\n",
    "print('Gesamtkosten:')\n",
    "print(f'Hinfahrt (Köln -> Pangea): {round(hinfahrt * 3,2)}')\n",
    "print(f'Rückfahrt (Pangea -> Köln): {round(rueckfahrt * 5,2)}')\n",
    "print(f'Heimfahrt (Köln -> Aachen -> Pfalz): {round(heimfahrt * 2,2)}')\n",
    "print(f'Versicherung pro Trip pro Person: {round(versicherung,2)}')\n",
    "print('\\n')\n",
    "\n",
    "print('Kosten pro Person:')\n",
    "print(f'Simon: {round(simon,2)}')\n",
    "print(f'Viggels: {round(viggels,)}')\n",
    "print(f'Eva: {round(eva,2)}')\n",
    "print(f'Greta: {round(greta,2)}')\n",
    "print(f'Luca: {round(luca,2)}')\n"
   ]
  }
 ],
 "metadata": {
  "kernelspec": {
   "display_name": "Python 3",
   "language": "python",
   "name": "python3"
  },
  "language_info": {
   "codemirror_mode": {
    "name": "ipython",
    "version": 3
   },
   "file_extension": ".py",
   "mimetype": "text/x-python",
   "name": "python",
   "nbconvert_exporter": "python",
   "pygments_lexer": "ipython3",
   "version": "3.10.6"
  },
  "orig_nbformat": 4
 },
 "nbformat": 4,
 "nbformat_minor": 2
}
